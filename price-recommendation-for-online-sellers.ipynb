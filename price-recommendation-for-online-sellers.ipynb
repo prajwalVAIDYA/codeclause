{
 "cells": [
  {
   "cell_type": "markdown",
   "id": "d3e884cb",
   "metadata": {
    "papermill": {
     "duration": 0.008346,
     "end_time": "2023-04-30T14:47:59.439583",
     "exception": false,
     "start_time": "2023-04-30T14:47:59.431237",
     "status": "completed"
    },
    "tags": []
   },
   "source": [
    "# Importing Dataset & Libraries"
   ]
  },
  {
   "cell_type": "markdown",
   "id": "394a8e97",
   "metadata": {
    "papermill": {
     "duration": 0.007565,
     "end_time": "2023-04-30T14:47:59.454915",
     "exception": false,
     "start_time": "2023-04-30T14:47:59.447350",
     "status": "completed"
    },
    "tags": []
   },
   "source": [
    "* Decompress Data"
   ]
  },
  {
   "cell_type": "code",
   "execution_count": 1,
   "id": "55bb2a2b",
   "metadata": {
    "execution": {
     "iopub.execute_input": "2023-04-30T14:47:59.472159Z",
     "iopub.status.busy": "2023-04-30T14:47:59.471402Z",
     "iopub.status.idle": "2023-04-30T14:48:27.643160Z",
     "shell.execute_reply": "2023-04-30T14:48:27.641965Z"
    },
    "papermill": {
     "duration": 28.18383,
     "end_time": "2023-04-30T14:48:27.646041",
     "exception": false,
     "start_time": "2023-04-30T14:47:59.462211",
     "status": "completed"
    },
    "tags": []
   },
   "outputs": [
    {
     "name": "stdout",
     "output_type": "stream",
     "text": [
      "\r\n",
      "\r\n",
      "\r\n",
      "p7zip is already the newest version (16.02+dfsg-7build1).\r\n",
      "p7zip set to manually installed.\r\n",
      "0 upgraded, 0 newly installed, 0 to remove and 66 not upgraded.\r\n",
      "\r\n",
      "7-Zip (a) [64] 16.02 : Copyright (c) 1999-2016 Igor Pavlov : 2016-05-21\r\n",
      "p7zip Version 16.02 (locale=C.UTF-8,Utf16=on,HugeFiles=on,64 bits,4 CPUs Intel(R) Xeon(R) CPU @ 2.20GHz (406F0),ASM,AES-NI)\r\n",
      "\r\n",
      "Scanning the drive for archives:\r\n",
      "  0M Scan /kaggle/input/mercari-price-suggestion-challenge/\b\b\b\b\b\b\b\b\b\b\b\b\b\b\b\b\b\b\b\b\b\b\b\b\b\b\b\b\b\b\b\b\b\b\b\b\b\b\b\b\b\b\b\b\b\b\b\b\b\b\b\b\b\b\b\b\b\b\b                                                           \b\b\b\b\b\b\b\b\b\b\b\b\b\b\b\b\b\b\b\b\b\b\b\b\b\b\b\b\b\b\b\b\b\b\b\b\b\b\b\b\b\b\b\b\b\b\b\b\b\b\b\b\b\b\b\b\b\b\b1 file, 77912192 bytes (75 MiB)\r\n",
      "\r\n",
      "Extracting archive: /kaggle/input/mercari-price-suggestion-challenge/train.tsv.7z\r\n",
      "--\r\n",
      "Path = /kaggle/input/mercari-price-suggestion-challenge/train.tsv.7z\r\n",
      "Type = 7z\r\n",
      "Physical Size = 77912192\r\n",
      "Headers Size = 122\r\n",
      "Method = LZMA2:24\r\n",
      "Solid = -\r\n",
      "Blocks = 1\r\n",
      "\r\n",
      "  0%\b\b\b\b    \b\b\b\b  2% - train.tsv\b\b\b\b\b\b\b\b\b\b\b\b\b\b\b\b                \b\b\b\b\b\b\b\b\b\b\b\b\b\b\b\b  6% - train.tsv\b\b\b\b\b\b\b\b\b\b\b\b\b\b\b\b                \b\b\b\b\b\b\b\b\b\b\b\b\b\b\b\b  9% - train.tsv\b\b\b\b\b\b\b\b\b\b\b\b\b\b\b\b                \b\b\b\b\b\b\b\b\b\b\b\b\b\b\b\b 11% - train.tsv\b\b\b\b\b\b\b\b\b\b\b\b\b\b\b\b                \b\b\b\b\b\b\b\b\b\b\b\b\b\b\b\b 14% - train.tsv\b\b\b\b\b\b\b\b\b\b\b\b\b\b\b\b                \b\b\b\b\b\b\b\b\b\b\b\b\b\b\b\b 18% - train.tsv\b\b\b\b\b\b\b\b\b\b\b\b\b\b\b\b                \b\b\b\b\b\b\b\b\b\b\b\b\b\b\b\b 22% - train.tsv\b\b\b\b\b\b\b\b\b\b\b\b\b\b\b\b                \b\b\b\b\b\b\b\b\b\b\b\b\b\b\b\b 25% - train.tsv\b\b\b\b\b\b\b\b\b\b\b\b\b\b\b\b                \b\b\b\b\b\b\b\b\b\b\b\b\b\b\b\b 28% - train.tsv\b\b\b\b\b\b\b\b\b\b\b\b\b\b\b\b                \b\b\b\b\b\b\b\b\b\b\b\b\b\b\b\b 31% - train.tsv\b\b\b\b\b\b\b\b\b\b\b\b\b\b\b\b                \b\b\b\b\b\b\b\b\b\b\b\b\b\b\b\b 34% - train.tsv\b\b\b\b\b\b\b\b\b\b\b\b\b\b\b\b                \b\b\b\b\b\b\b\b\b\b\b\b\b\b\b\b 37% - train.tsv\b\b\b\b\b\b\b\b\b\b\b\b\b\b\b\b                \b\b\b\b\b\b\b\b\b\b\b\b\b\b\b\b 40% - train.tsv\b\b\b\b\b\b\b\b\b\b\b\b\b\b\b\b                \b\b\b\b\b\b\b\b\b\b\b\b\b\b\b\b 43% - train.tsv\b\b\b\b\b\b\b\b\b\b\b\b\b\b\b\b                \b\b\b\b\b\b\b\b\b\b\b\b\b\b\b\b 45% - train.tsv\b\b\b\b\b\b\b\b\b\b\b\b\b\b\b\b                \b\b\b\b\b\b\b\b\b\b\b\b\b\b\b\b 49% - train.tsv\b\b\b\b\b\b\b\b\b\b\b\b\b\b\b\b                \b\b\b\b\b\b\b\b\b\b\b\b\b\b\b\b 52% - train.tsv\b\b\b\b\b\b\b\b\b\b\b\b\b\b\b\b                \b\b\b\b\b\b\b\b\b\b\b\b\b\b\b\b 54% - train.tsv\b\b\b\b\b\b\b\b\b\b\b\b\b\b\b\b                \b\b\b\b\b\b\b\b\b\b\b\b\b\b\b\b 57% - train.tsv\b\b\b\b\b\b\b\b\b\b\b\b\b\b\b\b                \b\b\b\b\b\b\b\b\b\b\b\b\b\b\b\b 60% - train.tsv\b\b\b\b\b\b\b\b\b\b\b\b\b\b\b\b                \b\b\b\b\b\b\b\b\b\b\b\b\b\b\b\b 63% - train.tsv\b\b\b\b\b\b\b\b\b\b\b\b\b\b\b\b                \b\b\b\b\b\b\b\b\b\b\b\b\b\b\b\b 65% - train.tsv\b\b\b\b\b\b\b\b\b\b\b\b\b\b\b\b                \b\b\b\b\b\b\b\b\b\b\b\b\b\b\b\b 69% - train.tsv\b\b\b\b\b\b\b\b\b\b\b\b\b\b\b\b                \b\b\b\b\b\b\b\b\b\b\b\b\b\b\b\b 72% - train.tsv\b\b\b\b\b\b\b\b\b\b\b\b\b\b\b\b                \b\b\b\b\b\b\b\b\b\b\b\b\b\b\b\b 75% - train.tsv\b\b\b\b\b\b\b\b\b\b\b\b\b\b\b\b                \b\b\b\b\b\b\b\b\b\b\b\b\b\b\b\b 78% - train.tsv\b\b\b\b\b\b\b\b\b\b\b\b\b\b\b\b                \b\b\b\b\b\b\b\b\b\b\b\b\b\b\b\b 80% - train.tsv\b\b\b\b\b\b\b\b\b\b\b\b\b\b\b\b                \b\b\b\b\b\b\b\b\b\b\b\b\b\b\b\b 83% - train.tsv\b\b\b\b\b\b\b\b\b\b\b\b\b\b\b\b                \b\b\b\b\b\b\b\b\b\b\b\b\b\b\b\b 85% - train.tsv\b\b\b\b\b\b\b\b\b\b\b\b\b\b\b\b                \b\b\b\b\b\b\b\b\b\b\b\b\b\b\b\b 88% - train.tsv\b\b\b\b\b\b\b\b\b\b\b\b\b\b\b\b                \b\b\b\b\b\b\b\b\b\b\b\b\b\b\b\b 91% - train.tsv\b\b\b\b\b\b\b\b\b\b\b\b\b\b\b\b                \b\b\b\b\b\b\b\b\b\b\b\b\b\b\b\b 94% - train.tsv\b\b\b\b\b\b\b\b\b\b\b\b\b\b\b\b                \b\b\b\b\b\b\b\b\b\b\b\b\b\b\b\b 97% - train.tsv\b\b\b\b\b\b\b\b\b\b\b\b\b\b\b\b                \b\b\b\b\b\b\b\b\b\b\b\b\b\b\b\b 99% - train.tsv\b\b\b\b\b\b\b\b\b\b\b\b\b\b\b\b                \b\b\b\b\b\b\b\b\b\b\b\b\b\b\b\bEverything is Ok\r\n",
      "\r\n",
      "Size:       337809843\r\n",
      "Compressed: 77912192\r\n",
      "\r\n",
      "7-Zip (a) [64] 16.02 : Copyright (c) 1999-2016 Igor Pavlov : 2016-05-21\r\n",
      "p7zip Version 16.02 (locale=C.UTF-8,Utf16=on,HugeFiles=on,64 bits,4 CPUs Intel(R) Xeon(R) CPU @ 2.20GHz (406F0),ASM,AES-NI)\r\n",
      "\r\n",
      "Scanning the drive for archives:\r\n",
      "  0M Scan /kaggle/input/mercari-price-suggestion-challenge/\b\b\b\b\b\b\b\b\b\b\b\b\b\b\b\b\b\b\b\b\b\b\b\b\b\b\b\b\b\b\b\b\b\b\b\b\b\b\b\b\b\b\b\b\b\b\b\b\b\b\b\b\b\b\b\b\b\b\b                                                           \b\b\b\b\b\b\b\b\b\b\b\b\b\b\b\b\b\b\b\b\b\b\b\b\b\b\b\b\b\b\b\b\b\b\b\b\b\b\b\b\b\b\b\b\b\b\b\b\b\b\b\b\b\b\b\b\b\b\b1 file, 35617013 bytes (34 MiB)\r\n",
      "\r\n",
      "Extracting archive: /kaggle/input/mercari-price-suggestion-challenge/test.tsv.7z\r\n",
      "--\r\n",
      "Path = /kaggle/input/mercari-price-suggestion-challenge/test.tsv.7z\r\n",
      "Type = 7z\r\n",
      "Physical Size = 35617013\r\n",
      "Headers Size = 122\r\n",
      "Method = LZMA2:24\r\n",
      "Solid = -\r\n",
      "Blocks = 1\r\n",
      "\r\n",
      "  0%\b\b\b\b    \b\b\b\b  5% - test.tsv\b\b\b\b\b\b\b\b\b\b\b\b\b\b\b               \b\b\b\b\b\b\b\b\b\b\b\b\b\b\b 13% - test.tsv\b\b\b\b\b\b\b\b\b\b\b\b\b\b\b               \b\b\b\b\b\b\b\b\b\b\b\b\b\b\b 20% - test.tsv\b\b\b\b\b\b\b\b\b\b\b\b\b\b\b               \b\b\b\b\b\b\b\b\b\b\b\b\b\b\b 27% - test.tsv\b\b\b\b\b\b\b\b\b\b\b\b\b\b\b               \b\b\b\b\b\b\b\b\b\b\b\b\b\b\b 35% - test.tsv\b\b\b\b\b\b\b\b\b\b\b\b\b\b\b               \b\b\b\b\b\b\b\b\b\b\b\b\b\b\b 43% - test.tsv\b\b\b\b\b\b\b\b\b\b\b\b\b\b\b               \b\b\b\b\b\b\b\b\b\b\b\b\b\b\b 49% - test.tsv\b\b\b\b\b\b\b\b\b\b\b\b\b\b\b               \b\b\b\b\b\b\b\b\b\b\b\b\b\b\b 57% - test.tsv\b\b\b\b\b\b\b\b\b\b\b\b\b\b\b               \b\b\b\b\b\b\b\b\b\b\b\b\b\b\b 62% - test.tsv\b\b\b\b\b\b\b\b\b\b\b\b\b\b\b               \b\b\b\b\b\b\b\b\b\b\b\b\b\b\b 70% - test.tsv\b\b\b\b\b\b\b\b\b\b\b\b\b\b\b               \b\b\b\b\b\b\b\b\b\b\b\b\b\b\b 76% - test.tsv\b\b\b\b\b\b\b\b\b\b\b\b\b\b\b               \b\b\b\b\b\b\b\b\b\b\b\b\b\b\b 84% - test.tsv\b\b\b\b\b\b\b\b\b\b\b\b\b\b\b               \b\b\b\b\b\b\b\b\b\b\b\b\b\b\b 89% - test.tsv\b\b\b\b\b\b\b\b\b\b\b\b\b\b\b               \b\b\b\b\b\b\b\b\b\b\b\b\b\b\b 97% - test.tsv\b\b\b\b\b\b\b\b\b\b\b\b\b\b\b               \b\b\b\b\b\b\b\b\b\b\b\b\b\b\bEverything is Ok\r\n",
      "\r\n",
      "Size:       154222160\r\n",
      "Compressed: 35617013\r\n",
      "Archive:  /kaggle/input/mercari-price-suggestion-challenge/test_stg2.tsv.zip\r\n",
      "  inflating: test_stg2.tsv           \r\n"
     ]
    }
   ],
   "source": [
    "!apt-get install p7zip\n",
    "!p7zip -d -f -k /kaggle/input/mercari-price-suggestion-challenge/train.tsv.7z\n",
    "!p7zip -d -f -k /kaggle/input/mercari-price-suggestion-challenge/test.tsv.7z\n",
    "!unzip /kaggle/input/mercari-price-suggestion-challenge/test_stg2.tsv.zip"
   ]
  },
  {
   "cell_type": "code",
   "execution_count": 2,
   "id": "4aba15c1",
   "metadata": {
    "execution": {
     "iopub.execute_input": "2023-04-30T14:48:27.672162Z",
     "iopub.status.busy": "2023-04-30T14:48:27.671673Z",
     "iopub.status.idle": "2023-04-30T14:48:29.250151Z",
     "shell.execute_reply": "2023-04-30T14:48:29.248664Z"
    },
    "papermill": {
     "duration": 1.595839,
     "end_time": "2023-04-30T14:48:29.253902",
     "exception": false,
     "start_time": "2023-04-30T14:48:27.658063",
     "status": "completed"
    },
    "tags": []
   },
   "outputs": [],
   "source": [
    "import numpy as np \n",
    "import pandas as pd \n",
    "from scipy import stats, integrate\n",
    "import matplotlib.pyplot as plt\n",
    "import seaborn as sns\n",
    "from sklearn.model_selection import train_test_split\n",
    "from sklearn import datasets, linear_model\n",
    "from sklearn.metrics import mean_squared_error, r2_score"
   ]
  },
  {
   "cell_type": "code",
   "execution_count": 3,
   "id": "d69e3db4",
   "metadata": {
    "execution": {
     "iopub.execute_input": "2023-04-30T14:48:29.279594Z",
     "iopub.status.busy": "2023-04-30T14:48:29.279042Z",
     "iopub.status.idle": "2023-04-30T14:48:29.285459Z",
     "shell.execute_reply": "2023-04-30T14:48:29.283976Z"
    },
    "papermill": {
     "duration": 0.02222,
     "end_time": "2023-04-30T14:48:29.288074",
     "exception": false,
     "start_time": "2023-04-30T14:48:29.265854",
     "status": "completed"
    },
    "tags": []
   },
   "outputs": [],
   "source": [
    "import lzma\n",
    "import os\n",
    "import csv\n",
    "import re\n",
    "import time"
   ]
  },
  {
   "cell_type": "code",
   "execution_count": 4,
   "id": "e2b52922",
   "metadata": {
    "execution": {
     "iopub.execute_input": "2023-04-30T14:48:29.314656Z",
     "iopub.status.busy": "2023-04-30T14:48:29.314201Z",
     "iopub.status.idle": "2023-04-30T14:48:50.422795Z",
     "shell.execute_reply": "2023-04-30T14:48:50.421326Z"
    },
    "papermill": {
     "duration": 21.124803,
     "end_time": "2023-04-30T14:48:50.425763",
     "exception": false,
     "start_time": "2023-04-30T14:48:29.300960",
     "status": "completed"
    },
    "tags": []
   },
   "outputs": [
    {
     "name": "stdout",
     "output_type": "stream",
     "text": [
      "train data:  (1482535, 8)\n",
      "test data:  (3460725, 7)\n"
     ]
    }
   ],
   "source": [
    "train = pd.read_csv('/kaggle/working/train.tsv', sep='\\t')\n",
    "test = pd.read_csv('/kaggle/working/test_stg2.tsv', sep='\\t')\n",
    "print(\"train data: \",train.shape)\n",
    "print(\"test data: \",test.shape)"
   ]
  },
  {
   "cell_type": "code",
   "execution_count": 5,
   "id": "821a795f",
   "metadata": {
    "execution": {
     "iopub.execute_input": "2023-04-30T14:48:50.451561Z",
     "iopub.status.busy": "2023-04-30T14:48:50.450861Z",
     "iopub.status.idle": "2023-04-30T14:48:50.850811Z",
     "shell.execute_reply": "2023-04-30T14:48:50.849325Z"
    },
    "papermill": {
     "duration": 0.416053,
     "end_time": "2023-04-30T14:48:50.853653",
     "exception": false,
     "start_time": "2023-04-30T14:48:50.437600",
     "status": "completed"
    },
    "tags": []
   },
   "outputs": [
    {
     "name": "stdout",
     "output_type": "stream",
     "text": [
      "<class 'pandas.core.frame.DataFrame'>\n",
      "RangeIndex: 1482535 entries, 0 to 1482534\n",
      "Data columns (total 8 columns):\n",
      " #   Column             Non-Null Count    Dtype  \n",
      "---  ------             --------------    -----  \n",
      " 0   train_id           1482535 non-null  int64  \n",
      " 1   name               1482535 non-null  object \n",
      " 2   item_condition_id  1482535 non-null  int64  \n",
      " 3   category_name      1476208 non-null  object \n",
      " 4   brand_name         849853 non-null   object \n",
      " 5   price              1482535 non-null  float64\n",
      " 6   shipping           1482535 non-null  int64  \n",
      " 7   item_description   1482531 non-null  object \n",
      "dtypes: float64(1), int64(3), object(4)\n",
      "memory usage: 90.5+ MB\n"
     ]
    }
   ],
   "source": [
    "train.info()"
   ]
  },
  {
   "cell_type": "code",
   "execution_count": 6,
   "id": "b9a9a5ec",
   "metadata": {
    "execution": {
     "iopub.execute_input": "2023-04-30T14:48:50.879055Z",
     "iopub.status.busy": "2023-04-30T14:48:50.878669Z",
     "iopub.status.idle": "2023-04-30T14:48:50.889918Z",
     "shell.execute_reply": "2023-04-30T14:48:50.888500Z"
    },
    "papermill": {
     "duration": 0.027148,
     "end_time": "2023-04-30T14:48:50.892530",
     "exception": false,
     "start_time": "2023-04-30T14:48:50.865382",
     "status": "completed"
    },
    "tags": []
   },
   "outputs": [
    {
     "name": "stdout",
     "output_type": "stream",
     "text": [
      "<class 'pandas.core.frame.DataFrame'>\n",
      "RangeIndex: 3460725 entries, 0 to 3460724\n",
      "Data columns (total 7 columns):\n",
      " #   Column             Dtype \n",
      "---  ------             ----- \n",
      " 0   test_id            int64 \n",
      " 1   name               object\n",
      " 2   item_condition_id  int64 \n",
      " 3   category_name      object\n",
      " 4   brand_name         object\n",
      " 5   shipping           int64 \n",
      " 6   item_description   object\n",
      "dtypes: int64(3), object(4)\n",
      "memory usage: 184.8+ MB\n"
     ]
    }
   ],
   "source": [
    "test.info()"
   ]
  },
  {
   "cell_type": "code",
   "execution_count": 7,
   "id": "43c4b130",
   "metadata": {
    "execution": {
     "iopub.execute_input": "2023-04-30T14:48:50.918509Z",
     "iopub.status.busy": "2023-04-30T14:48:50.918077Z",
     "iopub.status.idle": "2023-04-30T14:48:50.952123Z",
     "shell.execute_reply": "2023-04-30T14:48:50.950991Z"
    },
    "papermill": {
     "duration": 0.050291,
     "end_time": "2023-04-30T14:48:50.954806",
     "exception": false,
     "start_time": "2023-04-30T14:48:50.904515",
     "status": "completed"
    },
    "tags": []
   },
   "outputs": [
    {
     "data": {
      "text/html": [
       "<div>\n",
       "<style scoped>\n",
       "    .dataframe tbody tr th:only-of-type {\n",
       "        vertical-align: middle;\n",
       "    }\n",
       "\n",
       "    .dataframe tbody tr th {\n",
       "        vertical-align: top;\n",
       "    }\n",
       "\n",
       "    .dataframe thead th {\n",
       "        text-align: right;\n",
       "    }\n",
       "</style>\n",
       "<table border=\"1\" class=\"dataframe\">\n",
       "  <thead>\n",
       "    <tr style=\"text-align: right;\">\n",
       "      <th></th>\n",
       "      <th>train_id</th>\n",
       "      <th>name</th>\n",
       "      <th>item_condition_id</th>\n",
       "      <th>category_name</th>\n",
       "      <th>brand_name</th>\n",
       "      <th>price</th>\n",
       "      <th>shipping</th>\n",
       "      <th>item_description</th>\n",
       "    </tr>\n",
       "  </thead>\n",
       "  <tbody>\n",
       "    <tr>\n",
       "      <th>0</th>\n",
       "      <td>0</td>\n",
       "      <td>MLB Cincinnati Reds T Shirt Size XL</td>\n",
       "      <td>3</td>\n",
       "      <td>Men/Tops/T-shirts</td>\n",
       "      <td>NaN</td>\n",
       "      <td>10.0</td>\n",
       "      <td>1</td>\n",
       "      <td>No description yet</td>\n",
       "    </tr>\n",
       "    <tr>\n",
       "      <th>1</th>\n",
       "      <td>1</td>\n",
       "      <td>Razer BlackWidow Chroma Keyboard</td>\n",
       "      <td>3</td>\n",
       "      <td>Electronics/Computers &amp; Tablets/Components &amp; P...</td>\n",
       "      <td>Razer</td>\n",
       "      <td>52.0</td>\n",
       "      <td>0</td>\n",
       "      <td>This keyboard is in great condition and works ...</td>\n",
       "    </tr>\n",
       "    <tr>\n",
       "      <th>2</th>\n",
       "      <td>2</td>\n",
       "      <td>AVA-VIV Blouse</td>\n",
       "      <td>1</td>\n",
       "      <td>Women/Tops &amp; Blouses/Blouse</td>\n",
       "      <td>Target</td>\n",
       "      <td>10.0</td>\n",
       "      <td>1</td>\n",
       "      <td>Adorable top with a hint of lace and a key hol...</td>\n",
       "    </tr>\n",
       "    <tr>\n",
       "      <th>3</th>\n",
       "      <td>3</td>\n",
       "      <td>Leather Horse Statues</td>\n",
       "      <td>1</td>\n",
       "      <td>Home/Home Décor/Home Décor Accents</td>\n",
       "      <td>NaN</td>\n",
       "      <td>35.0</td>\n",
       "      <td>1</td>\n",
       "      <td>New with tags. Leather horses. Retail for [rm]...</td>\n",
       "    </tr>\n",
       "    <tr>\n",
       "      <th>4</th>\n",
       "      <td>4</td>\n",
       "      <td>24K GOLD plated rose</td>\n",
       "      <td>1</td>\n",
       "      <td>Women/Jewelry/Necklaces</td>\n",
       "      <td>NaN</td>\n",
       "      <td>44.0</td>\n",
       "      <td>0</td>\n",
       "      <td>Complete with certificate of authenticity</td>\n",
       "    </tr>\n",
       "    <tr>\n",
       "      <th>...</th>\n",
       "      <td>...</td>\n",
       "      <td>...</td>\n",
       "      <td>...</td>\n",
       "      <td>...</td>\n",
       "      <td>...</td>\n",
       "      <td>...</td>\n",
       "      <td>...</td>\n",
       "      <td>...</td>\n",
       "    </tr>\n",
       "    <tr>\n",
       "      <th>1482530</th>\n",
       "      <td>1482530</td>\n",
       "      <td>Free People Inspired Dress</td>\n",
       "      <td>2</td>\n",
       "      <td>Women/Dresses/Mid-Calf</td>\n",
       "      <td>Free People</td>\n",
       "      <td>20.0</td>\n",
       "      <td>1</td>\n",
       "      <td>Lace, says size small but fits medium perfectl...</td>\n",
       "    </tr>\n",
       "    <tr>\n",
       "      <th>1482531</th>\n",
       "      <td>1482531</td>\n",
       "      <td>Little mermaid handmade dress</td>\n",
       "      <td>2</td>\n",
       "      <td>Kids/Girls 2T-5T/Dresses</td>\n",
       "      <td>Disney</td>\n",
       "      <td>14.0</td>\n",
       "      <td>0</td>\n",
       "      <td>Little mermaid handmade dress never worn size 2t</td>\n",
       "    </tr>\n",
       "    <tr>\n",
       "      <th>1482532</th>\n",
       "      <td>1482532</td>\n",
       "      <td>21 day fix containers and eating plan</td>\n",
       "      <td>2</td>\n",
       "      <td>Sports &amp; Outdoors/Exercise/Fitness accessories</td>\n",
       "      <td>NaN</td>\n",
       "      <td>12.0</td>\n",
       "      <td>0</td>\n",
       "      <td>Used once or twice, still in great shape.</td>\n",
       "    </tr>\n",
       "    <tr>\n",
       "      <th>1482533</th>\n",
       "      <td>1482533</td>\n",
       "      <td>World markets lanterns</td>\n",
       "      <td>3</td>\n",
       "      <td>Home/Home Décor/Home Décor Accents</td>\n",
       "      <td>NaN</td>\n",
       "      <td>45.0</td>\n",
       "      <td>1</td>\n",
       "      <td>There is 2 of each one that you see! So 2 red ...</td>\n",
       "    </tr>\n",
       "    <tr>\n",
       "      <th>1482534</th>\n",
       "      <td>1482534</td>\n",
       "      <td>Brand new lux de ville wallet</td>\n",
       "      <td>1</td>\n",
       "      <td>Women/Women's Accessories/Wallets</td>\n",
       "      <td>NaN</td>\n",
       "      <td>22.0</td>\n",
       "      <td>0</td>\n",
       "      <td>New with tag, red with sparkle. Firm price, no...</td>\n",
       "    </tr>\n",
       "  </tbody>\n",
       "</table>\n",
       "<p>1482535 rows × 8 columns</p>\n",
       "</div>"
      ],
      "text/plain": [
       "         train_id                                   name  item_condition_id  \\\n",
       "0               0    MLB Cincinnati Reds T Shirt Size XL                  3   \n",
       "1               1       Razer BlackWidow Chroma Keyboard                  3   \n",
       "2               2                         AVA-VIV Blouse                  1   \n",
       "3               3                  Leather Horse Statues                  1   \n",
       "4               4                   24K GOLD plated rose                  1   \n",
       "...           ...                                    ...                ...   \n",
       "1482530   1482530             Free People Inspired Dress                  2   \n",
       "1482531   1482531          Little mermaid handmade dress                  2   \n",
       "1482532   1482532  21 day fix containers and eating plan                  2   \n",
       "1482533   1482533                 World markets lanterns                  3   \n",
       "1482534   1482534          Brand new lux de ville wallet                  1   \n",
       "\n",
       "                                             category_name   brand_name  \\\n",
       "0                                        Men/Tops/T-shirts          NaN   \n",
       "1        Electronics/Computers & Tablets/Components & P...        Razer   \n",
       "2                              Women/Tops & Blouses/Blouse       Target   \n",
       "3                       Home/Home Décor/Home Décor Accents          NaN   \n",
       "4                                  Women/Jewelry/Necklaces          NaN   \n",
       "...                                                    ...          ...   \n",
       "1482530                             Women/Dresses/Mid-Calf  Free People   \n",
       "1482531                           Kids/Girls 2T-5T/Dresses       Disney   \n",
       "1482532     Sports & Outdoors/Exercise/Fitness accessories          NaN   \n",
       "1482533                 Home/Home Décor/Home Décor Accents          NaN   \n",
       "1482534                  Women/Women's Accessories/Wallets          NaN   \n",
       "\n",
       "         price  shipping                                   item_description  \n",
       "0         10.0         1                                 No description yet  \n",
       "1         52.0         0  This keyboard is in great condition and works ...  \n",
       "2         10.0         1  Adorable top with a hint of lace and a key hol...  \n",
       "3         35.0         1  New with tags. Leather horses. Retail for [rm]...  \n",
       "4         44.0         0          Complete with certificate of authenticity  \n",
       "...        ...       ...                                                ...  \n",
       "1482530   20.0         1  Lace, says size small but fits medium perfectl...  \n",
       "1482531   14.0         0   Little mermaid handmade dress never worn size 2t  \n",
       "1482532   12.0         0          Used once or twice, still in great shape.  \n",
       "1482533   45.0         1  There is 2 of each one that you see! So 2 red ...  \n",
       "1482534   22.0         0  New with tag, red with sparkle. Firm price, no...  \n",
       "\n",
       "[1482535 rows x 8 columns]"
      ]
     },
     "execution_count": 7,
     "metadata": {},
     "output_type": "execute_result"
    }
   ],
   "source": [
    "train"
   ]
  },
  {
   "cell_type": "code",
   "execution_count": 8,
   "id": "a8740129",
   "metadata": {
    "execution": {
     "iopub.execute_input": "2023-04-30T14:48:50.981384Z",
     "iopub.status.busy": "2023-04-30T14:48:50.980387Z",
     "iopub.status.idle": "2023-04-30T14:48:51.000534Z",
     "shell.execute_reply": "2023-04-30T14:48:50.999287Z"
    },
    "papermill": {
     "duration": 0.035967,
     "end_time": "2023-04-30T14:48:51.002977",
     "exception": false,
     "start_time": "2023-04-30T14:48:50.967010",
     "status": "completed"
    },
    "tags": []
   },
   "outputs": [
    {
     "data": {
      "text/html": [
       "<div>\n",
       "<style scoped>\n",
       "    .dataframe tbody tr th:only-of-type {\n",
       "        vertical-align: middle;\n",
       "    }\n",
       "\n",
       "    .dataframe tbody tr th {\n",
       "        vertical-align: top;\n",
       "    }\n",
       "\n",
       "    .dataframe thead th {\n",
       "        text-align: right;\n",
       "    }\n",
       "</style>\n",
       "<table border=\"1\" class=\"dataframe\">\n",
       "  <thead>\n",
       "    <tr style=\"text-align: right;\">\n",
       "      <th></th>\n",
       "      <th>test_id</th>\n",
       "      <th>name</th>\n",
       "      <th>item_condition_id</th>\n",
       "      <th>category_name</th>\n",
       "      <th>brand_name</th>\n",
       "      <th>shipping</th>\n",
       "      <th>item_description</th>\n",
       "    </tr>\n",
       "  </thead>\n",
       "  <tbody>\n",
       "    <tr>\n",
       "      <th>0</th>\n",
       "      <td>0</td>\n",
       "      <td>Breast cancer \"I fight like a girl\" ring</td>\n",
       "      <td>1</td>\n",
       "      <td>Women/Jewelry/Rings</td>\n",
       "      <td>NaN</td>\n",
       "      <td>1</td>\n",
       "      <td>Size 7</td>\n",
       "    </tr>\n",
       "    <tr>\n",
       "      <th>1</th>\n",
       "      <td>1</td>\n",
       "      <td>25 pcs NEW 7.5\"x12\" Kraft Bubble Mailers</td>\n",
       "      <td>1</td>\n",
       "      <td>Other/Office supplies/Shipping Supplies</td>\n",
       "      <td>NaN</td>\n",
       "      <td>1</td>\n",
       "      <td>25 pcs NEW 7.5\"x12\" Kraft Bubble Mailers Lined...</td>\n",
       "    </tr>\n",
       "    <tr>\n",
       "      <th>2</th>\n",
       "      <td>2</td>\n",
       "      <td>Coach bag</td>\n",
       "      <td>1</td>\n",
       "      <td>Vintage &amp; Collectibles/Bags and Purses/Handbag</td>\n",
       "      <td>Coach</td>\n",
       "      <td>1</td>\n",
       "      <td>Brand new coach bag. Bought for [rm] at a Coac...</td>\n",
       "    </tr>\n",
       "    <tr>\n",
       "      <th>3</th>\n",
       "      <td>3</td>\n",
       "      <td>Floral Kimono</td>\n",
       "      <td>2</td>\n",
       "      <td>Women/Sweaters/Cardigan</td>\n",
       "      <td>NaN</td>\n",
       "      <td>0</td>\n",
       "      <td>-floral kimono -never worn -lightweight and pe...</td>\n",
       "    </tr>\n",
       "    <tr>\n",
       "      <th>4</th>\n",
       "      <td>4</td>\n",
       "      <td>Life after Death</td>\n",
       "      <td>3</td>\n",
       "      <td>Other/Books/Religion &amp; Spirituality</td>\n",
       "      <td>NaN</td>\n",
       "      <td>1</td>\n",
       "      <td>Rediscovering life after the loss of a loved o...</td>\n",
       "    </tr>\n",
       "    <tr>\n",
       "      <th>...</th>\n",
       "      <td>...</td>\n",
       "      <td>...</td>\n",
       "      <td>...</td>\n",
       "      <td>...</td>\n",
       "      <td>...</td>\n",
       "      <td>...</td>\n",
       "      <td>...</td>\n",
       "    </tr>\n",
       "    <tr>\n",
       "      <th>3460720</th>\n",
       "      <td>3460720</td>\n",
       "      <td>DARK SAMPLE BYE FOUNDATION MOISTURIZER</td>\n",
       "      <td>1</td>\n",
       "      <td>Beauty/Fragrance/Women</td>\n",
       "      <td>NaN</td>\n",
       "      <td>1</td>\n",
       "      <td>It cosmetics Bye Bye Foundation Full Coverage ...</td>\n",
       "    </tr>\n",
       "    <tr>\n",
       "      <th>3460721</th>\n",
       "      <td>3460721</td>\n",
       "      <td>bundle for @brandystash</td>\n",
       "      <td>2</td>\n",
       "      <td>Women/Pants/Other</td>\n",
       "      <td>NaN</td>\n",
       "      <td>1</td>\n",
       "      <td>♡2 pairs of omighty trackiez. one m and one s....</td>\n",
       "    </tr>\n",
       "    <tr>\n",
       "      <th>3460722</th>\n",
       "      <td>3460722</td>\n",
       "      <td>Toddler High-top Converse</td>\n",
       "      <td>3</td>\n",
       "      <td>Kids/Girls 0-24 Mos/Shoes</td>\n",
       "      <td>Nike</td>\n",
       "      <td>0</td>\n",
       "      <td>Size 5 (toddler). Pink high top converse shoes...</td>\n",
       "    </tr>\n",
       "    <tr>\n",
       "      <th>3460723</th>\n",
       "      <td>3460723</td>\n",
       "      <td>Yoga Sling Sandals</td>\n",
       "      <td>1</td>\n",
       "      <td>Women/Shoes/Sandals</td>\n",
       "      <td>Sanuk</td>\n",
       "      <td>1</td>\n",
       "      <td>super super comfy. i have a pair but ordered t...</td>\n",
       "    </tr>\n",
       "    <tr>\n",
       "      <th>3460724</th>\n",
       "      <td>3460724</td>\n",
       "      <td>Stylish ladies M/M insulated brown coat</td>\n",
       "      <td>3</td>\n",
       "      <td>Women/Coats &amp; Jackets/Other</td>\n",
       "      <td>NaN</td>\n",
       "      <td>1</td>\n",
       "      <td>100% Genuine leather and faux fur insulated co...</td>\n",
       "    </tr>\n",
       "  </tbody>\n",
       "</table>\n",
       "<p>3460725 rows × 7 columns</p>\n",
       "</div>"
      ],
      "text/plain": [
       "         test_id                                      name  item_condition_id  \\\n",
       "0              0  Breast cancer \"I fight like a girl\" ring                  1   \n",
       "1              1  25 pcs NEW 7.5\"x12\" Kraft Bubble Mailers                  1   \n",
       "2              2                                 Coach bag                  1   \n",
       "3              3                             Floral Kimono                  2   \n",
       "4              4                          Life after Death                  3   \n",
       "...          ...                                       ...                ...   \n",
       "3460720  3460720    DARK SAMPLE BYE FOUNDATION MOISTURIZER                  1   \n",
       "3460721  3460721                   bundle for @brandystash                  2   \n",
       "3460722  3460722                 Toddler High-top Converse                  3   \n",
       "3460723  3460723                        Yoga Sling Sandals                  1   \n",
       "3460724  3460724   Stylish ladies M/M insulated brown coat                  3   \n",
       "\n",
       "                                          category_name brand_name  shipping  \\\n",
       "0                                   Women/Jewelry/Rings        NaN         1   \n",
       "1               Other/Office supplies/Shipping Supplies        NaN         1   \n",
       "2        Vintage & Collectibles/Bags and Purses/Handbag      Coach         1   \n",
       "3                               Women/Sweaters/Cardigan        NaN         0   \n",
       "4                   Other/Books/Religion & Spirituality        NaN         1   \n",
       "...                                                 ...        ...       ...   \n",
       "3460720                          Beauty/Fragrance/Women        NaN         1   \n",
       "3460721                               Women/Pants/Other        NaN         1   \n",
       "3460722                       Kids/Girls 0-24 Mos/Shoes       Nike         0   \n",
       "3460723                             Women/Shoes/Sandals      Sanuk         1   \n",
       "3460724                     Women/Coats & Jackets/Other        NaN         1   \n",
       "\n",
       "                                          item_description  \n",
       "0                                                   Size 7  \n",
       "1        25 pcs NEW 7.5\"x12\" Kraft Bubble Mailers Lined...  \n",
       "2        Brand new coach bag. Bought for [rm] at a Coac...  \n",
       "3        -floral kimono -never worn -lightweight and pe...  \n",
       "4        Rediscovering life after the loss of a loved o...  \n",
       "...                                                    ...  \n",
       "3460720  It cosmetics Bye Bye Foundation Full Coverage ...  \n",
       "3460721  ♡2 pairs of omighty trackiez. one m and one s....  \n",
       "3460722  Size 5 (toddler). Pink high top converse shoes...  \n",
       "3460723  super super comfy. i have a pair but ordered t...  \n",
       "3460724  100% Genuine leather and faux fur insulated co...  \n",
       "\n",
       "[3460725 rows x 7 columns]"
      ]
     },
     "execution_count": 8,
     "metadata": {},
     "output_type": "execute_result"
    }
   ],
   "source": [
    "test"
   ]
  },
  {
   "cell_type": "markdown",
   "id": "af46248a",
   "metadata": {
    "papermill": {
     "duration": 0.012527,
     "end_time": "2023-04-30T14:48:51.028649",
     "exception": false,
     "start_time": "2023-04-30T14:48:51.016122",
     "status": "completed"
    },
    "tags": []
   },
   "source": [
    "# Data Visualization"
   ]
  },
  {
   "cell_type": "code",
   "execution_count": 9,
   "id": "379aed9a",
   "metadata": {
    "execution": {
     "iopub.execute_input": "2023-04-30T14:48:51.055813Z",
     "iopub.status.busy": "2023-04-30T14:48:51.055386Z",
     "iopub.status.idle": "2023-04-30T14:48:51.464597Z",
     "shell.execute_reply": "2023-04-30T14:48:51.463325Z"
    },
    "papermill": {
     "duration": 0.426045,
     "end_time": "2023-04-30T14:48:51.467475",
     "exception": false,
     "start_time": "2023-04-30T14:48:51.041430",
     "status": "completed"
    },
    "tags": []
   },
   "outputs": [
    {
     "name": "stdout",
     "output_type": "stream",
     "text": [
      "Total Number of brands are 4809\n"
     ]
    },
    {
     "data": {
      "image/png": "[encoded data removed]",
      "text/plain": [
       "<Figure size 2000x500 with 1 Axes>"
      ]
     },
     "metadata": {},
     "output_type": "display_data"
    }
   ],
   "source": [
    "unique_brands = train['brand_name'].value_counts()\n",
    "print(\"Total Number of brands are {}\".format(len(unique_brands)))\n",
    "plt.figure(figsize=(20, 5))\n",
    "sns.barplot(x=unique_brands.index[1:10], y=unique_brands[1:10])\n",
    "plt.xlabel('Brand Name')\n",
    "plt.ylabel('Product Number')\n",
    "plt.show()"
   ]
  },
  {
   "cell_type": "code",
   "execution_count": 10,
   "id": "9ef08e01",
   "metadata": {
    "execution": {
     "iopub.execute_input": "2023-04-30T14:48:51.496114Z",
     "iopub.status.busy": "2023-04-30T14:48:51.495655Z",
     "iopub.status.idle": "2023-04-30T14:48:52.099402Z",
     "shell.execute_reply": "2023-04-30T14:48:52.098070Z"
    },
    "papermill": {
     "duration": 0.621171,
     "end_time": "2023-04-30T14:48:52.102241",
     "exception": false,
     "start_time": "2023-04-30T14:48:51.481070",
     "status": "completed"
    },
    "tags": []
   },
   "outputs": [
    {
     "data": {
      "image/png": "[encoded data removed]",
      "text/plain": [
       "<Figure size 1000x600 with 1 Axes>"
      ]
     },
     "metadata": {},
     "output_type": "display_data"
    }
   ],
   "source": [
    "fig, ax = plt.subplots(figsize=(10,6))\n",
    "ax.hist(train.price,bins = 30, range = [min(train.price), max(train.price)],label=\"Price\")\n",
    "plt.tick_params(labelsize=15)\n",
    "ax.set_xlabel('Price',fontsize=15)\n",
    "plt.title('Price Distribution - Training Set')\n",
    "plt.show()"
   ]
  },
  {
   "cell_type": "markdown",
   "id": "cc5c1448",
   "metadata": {
    "papermill": {
     "duration": 0.013458,
     "end_time": "2023-04-30T14:48:52.130376",
     "exception": false,
     "start_time": "2023-04-30T14:48:52.116918",
     "status": "completed"
    },
    "tags": []
   },
   "source": [
    "-We have many items with concentrated price below 500$, the price distribution is skewed to the right\n",
    "\n",
    "-Use the covariate function to return to the normal distribution"
   ]
  },
  {
   "cell_type": "code",
   "execution_count": 11,
   "id": "b7ff4fbd",
   "metadata": {
    "execution": {
     "iopub.execute_input": "2023-04-30T14:48:52.160394Z",
     "iopub.status.busy": "2023-04-30T14:48:52.159152Z",
     "iopub.status.idle": "2023-04-30T14:48:52.830008Z",
     "shell.execute_reply": "2023-04-30T14:48:52.828997Z"
    },
    "papermill": {
     "duration": 0.688562,
     "end_time": "2023-04-30T14:48:52.832667",
     "exception": false,
     "start_time": "2023-04-30T14:48:52.144105",
     "status": "completed"
    },
    "tags": []
   },
   "outputs": [
    {
     "data": {
      "image/png": "[encoded data removed]",
      "text/plain": [
       "<Figure size 1000x600 with 1 Axes>"
      ]
     },
     "metadata": {},
     "output_type": "display_data"
    }
   ],
   "source": [
    "fig, ax = plt.subplots(figsize=(10,6))\n",
    "ax.hist(np.log1p(train['price']),bins = 30, range = [min(np.log1p(train['price'])), max(np.log1p(train['price']))],label=\"Price\")\n",
    "ax.set_xlabel('log(Price)',fontsize=15)\n",
    "plt.title('log(Price) Distribution - Training Set')\n",
    "plt.show()"
   ]
  },
  {
   "cell_type": "markdown",
   "id": "d4dddf17",
   "metadata": {
    "papermill": {
     "duration": 0.013837,
     "end_time": "2023-04-30T14:48:52.860905",
     "exception": false,
     "start_time": "2023-04-30T14:48:52.847068",
     "status": "completed"
    },
    "tags": []
   },
   "source": [
    "-Check the condition of the product  "
   ]
  },
  {
   "cell_type": "code",
   "execution_count": 12,
   "id": "93fc5839",
   "metadata": {
    "execution": {
     "iopub.execute_input": "2023-04-30T14:48:52.891903Z",
     "iopub.status.busy": "2023-04-30T14:48:52.891029Z",
     "iopub.status.idle": "2023-04-30T14:48:53.138332Z",
     "shell.execute_reply": "2023-04-30T14:48:53.137271Z"
    },
    "papermill": {
     "duration": 0.266486,
     "end_time": "2023-04-30T14:48:53.141547",
     "exception": false,
     "start_time": "2023-04-30T14:48:52.875061",
     "status": "completed"
    },
    "tags": []
   },
   "outputs": [
    {
     "data": {
      "image/png": "[encoded data removed]",
      "text/plain": [
       "<Figure size 1000x500 with 1 Axes>"
      ]
     },
     "metadata": {},
     "output_type": "display_data"
    }
   ],
   "source": [
    "count = train['item_condition_id'].value_counts()\n",
    "plt.figure(figsize=(10, 5))\n",
    "sns.barplot(x=count.index[:5],y=count[:5])\n",
    "plt.ylabel('Number of Products')\n",
    "plt.xlabel('Product Condition')\n",
    "plt.show()"
   ]
  },
  {
   "cell_type": "markdown",
   "id": "4d9560f7",
   "metadata": {
    "papermill": {
     "duration": 0.014375,
     "end_time": "2023-04-30T14:48:53.171040",
     "exception": false,
     "start_time": "2023-04-30T14:48:53.156665",
     "status": "completed"
    },
    "tags": []
   },
   "source": [
    "-Check Shipping Fees"
   ]
  },
  {
   "cell_type": "code",
   "execution_count": 13,
   "id": "5dbc8e39",
   "metadata": {
    "execution": {
     "iopub.execute_input": "2023-04-30T14:48:53.202694Z",
     "iopub.status.busy": "2023-04-30T14:48:53.201812Z",
     "iopub.status.idle": "2023-04-30T14:48:53.424070Z",
     "shell.execute_reply": "2023-04-30T14:48:53.422829Z"
    },
    "papermill": {
     "duration": 0.2411,
     "end_time": "2023-04-30T14:48:53.426681",
     "exception": false,
     "start_time": "2023-04-30T14:48:53.185581",
     "status": "completed"
    },
    "tags": []
   },
   "outputs": [
    {
     "data": {
      "image/png": "[encoded data removed]",
      "text/plain": [
       "<Figure size 1000x500 with 1 Axes>"
      ]
     },
     "metadata": {},
     "output_type": "display_data"
    }
   ],
   "source": [
    "count = train['shipping'].value_counts()\n",
    "plt.figure(figsize=(10, 5))\n",
    "sns.barplot(x=count.index[:2], y=count[:2])\n",
    "plt.ylabel('Quantity ')\n",
    "plt.xlabel('Shipping Fee')\n",
    "plt.show()"
   ]
  },
  {
   "cell_type": "markdown",
   "id": "88264b70",
   "metadata": {
    "papermill": {
     "duration": 0.014888,
     "end_time": "2023-04-30T14:48:53.456641",
     "exception": false,
     "start_time": "2023-04-30T14:48:53.441753",
     "status": "completed"
    },
    "tags": []
   },
   "source": [
    "# Data Preprocessing"
   ]
  },
  {
   "cell_type": "code",
   "execution_count": 14,
   "id": "72c1b7ed",
   "metadata": {
    "execution": {
     "iopub.execute_input": "2023-04-30T14:48:53.489400Z",
     "iopub.status.busy": "2023-04-30T14:48:53.488963Z",
     "iopub.status.idle": "2023-04-30T14:49:11.958629Z",
     "shell.execute_reply": "2023-04-30T14:49:11.957324Z"
    },
    "papermill": {
     "duration": 18.4893,
     "end_time": "2023-04-30T14:49:11.961295",
     "exception": false,
     "start_time": "2023-04-30T14:48:53.471995",
     "status": "completed"
    },
    "tags": []
   },
   "outputs": [
    {
     "data": {
      "text/html": [
       "<div>\n",
       "<style scoped>\n",
       "    .dataframe tbody tr th:only-of-type {\n",
       "        vertical-align: middle;\n",
       "    }\n",
       "\n",
       "    .dataframe tbody tr th {\n",
       "        vertical-align: top;\n",
       "    }\n",
       "\n",
       "    .dataframe thead th {\n",
       "        text-align: right;\n",
       "    }\n",
       "</style>\n",
       "<table border=\"1\" class=\"dataframe\">\n",
       "  <thead>\n",
       "    <tr style=\"text-align: right;\">\n",
       "      <th></th>\n",
       "      <th>train_id</th>\n",
       "      <th>name</th>\n",
       "      <th>item_condition_id</th>\n",
       "      <th>category_name</th>\n",
       "      <th>brand_name</th>\n",
       "      <th>price</th>\n",
       "      <th>shipping</th>\n",
       "      <th>item_description</th>\n",
       "      <th>category_1</th>\n",
       "      <th>category_2</th>\n",
       "      <th>category_3</th>\n",
       "    </tr>\n",
       "  </thead>\n",
       "  <tbody>\n",
       "    <tr>\n",
       "      <th>0</th>\n",
       "      <td>0</td>\n",
       "      <td>MLB Cincinnati Reds T Shirt Size XL</td>\n",
       "      <td>3</td>\n",
       "      <td>Men/Tops/T-shirts</td>\n",
       "      <td>NaN</td>\n",
       "      <td>10.0</td>\n",
       "      <td>1</td>\n",
       "      <td>No description yet</td>\n",
       "      <td>Men</td>\n",
       "      <td>Tops</td>\n",
       "      <td>T-shirts</td>\n",
       "    </tr>\n",
       "    <tr>\n",
       "      <th>1</th>\n",
       "      <td>1</td>\n",
       "      <td>Razer BlackWidow Chroma Keyboard</td>\n",
       "      <td>3</td>\n",
       "      <td>Electronics/Computers &amp; Tablets/Components &amp; P...</td>\n",
       "      <td>Razer</td>\n",
       "      <td>52.0</td>\n",
       "      <td>0</td>\n",
       "      <td>This keyboard is in great condition and works ...</td>\n",
       "      <td>Electronics</td>\n",
       "      <td>Computers &amp; Tablets</td>\n",
       "      <td>Components &amp; Parts</td>\n",
       "    </tr>\n",
       "    <tr>\n",
       "      <th>2</th>\n",
       "      <td>2</td>\n",
       "      <td>AVA-VIV Blouse</td>\n",
       "      <td>1</td>\n",
       "      <td>Women/Tops &amp; Blouses/Blouse</td>\n",
       "      <td>Target</td>\n",
       "      <td>10.0</td>\n",
       "      <td>1</td>\n",
       "      <td>Adorable top with a hint of lace and a key hol...</td>\n",
       "      <td>Women</td>\n",
       "      <td>Tops &amp; Blouses</td>\n",
       "      <td>Blouse</td>\n",
       "    </tr>\n",
       "    <tr>\n",
       "      <th>3</th>\n",
       "      <td>3</td>\n",
       "      <td>Leather Horse Statues</td>\n",
       "      <td>1</td>\n",
       "      <td>Home/Home Décor/Home Décor Accents</td>\n",
       "      <td>NaN</td>\n",
       "      <td>35.0</td>\n",
       "      <td>1</td>\n",
       "      <td>New with tags. Leather horses. Retail for [rm]...</td>\n",
       "      <td>Home</td>\n",
       "      <td>Home Décor</td>\n",
       "      <td>Home Décor Accents</td>\n",
       "    </tr>\n",
       "    <tr>\n",
       "      <th>4</th>\n",
       "      <td>4</td>\n",
       "      <td>24K GOLD plated rose</td>\n",
       "      <td>1</td>\n",
       "      <td>Women/Jewelry/Necklaces</td>\n",
       "      <td>NaN</td>\n",
       "      <td>44.0</td>\n",
       "      <td>0</td>\n",
       "      <td>Complete with certificate of authenticity</td>\n",
       "      <td>Women</td>\n",
       "      <td>Jewelry</td>\n",
       "      <td>Necklaces</td>\n",
       "    </tr>\n",
       "  </tbody>\n",
       "</table>\n",
       "</div>"
      ],
      "text/plain": [
       "   train_id                                 name  item_condition_id  \\\n",
       "0         0  MLB Cincinnati Reds T Shirt Size XL                  3   \n",
       "1         1     Razer BlackWidow Chroma Keyboard                  3   \n",
       "2         2                       AVA-VIV Blouse                  1   \n",
       "3         3                Leather Horse Statues                  1   \n",
       "4         4                 24K GOLD plated rose                  1   \n",
       "\n",
       "                                       category_name brand_name  price  \\\n",
       "0                                  Men/Tops/T-shirts        NaN   10.0   \n",
       "1  Electronics/Computers & Tablets/Components & P...      Razer   52.0   \n",
       "2                        Women/Tops & Blouses/Blouse     Target   10.0   \n",
       "3                 Home/Home Décor/Home Décor Accents        NaN   35.0   \n",
       "4                            Women/Jewelry/Necklaces        NaN   44.0   \n",
       "\n",
       "   shipping                                   item_description   category_1  \\\n",
       "0         1                                 No description yet          Men   \n",
       "1         0  This keyboard is in great condition and works ...  Electronics   \n",
       "2         1  Adorable top with a hint of lace and a key hol...        Women   \n",
       "3         1  New with tags. Leather horses. Retail for [rm]...         Home   \n",
       "4         0          Complete with certificate of authenticity        Women   \n",
       "\n",
       "            category_2          category_3  \n",
       "0                 Tops            T-shirts  \n",
       "1  Computers & Tablets  Components & Parts  \n",
       "2       Tops & Blouses              Blouse  \n",
       "3           Home Décor  Home Décor Accents  \n",
       "4              Jewelry           Necklaces  "
      ]
     },
     "execution_count": 14,
     "metadata": {},
     "output_type": "execute_result"
    }
   ],
   "source": [
    "def split_cat(text):\n",
    "    try: return text.split(\"/\")\n",
    "    except: return (\"None\", \"None\", \"None\")\n",
    "train['category_1'], train['category_2'], train['category_3'] = \\\n",
    "zip(*train['category_name'].apply(lambda x: split_cat(x)))\n",
    "test['category_1'], test['category_2'], test['category_3'] = \\\n",
    "zip(*test['category_name'].apply(lambda x: split_cat(x)))\n",
    "\n",
    "train.head(5)"
   ]
  },
  {
   "cell_type": "code",
   "execution_count": 15,
   "id": "459a6078",
   "metadata": {
    "execution": {
     "iopub.execute_input": "2023-04-30T14:49:11.994184Z",
     "iopub.status.busy": "2023-04-30T14:49:11.993772Z",
     "iopub.status.idle": "2023-04-30T14:49:12.718981Z",
     "shell.execute_reply": "2023-04-30T14:49:12.717928Z"
    },
    "papermill": {
     "duration": 0.744841,
     "end_time": "2023-04-30T14:49:12.721748",
     "exception": false,
     "start_time": "2023-04-30T14:49:11.976907",
     "status": "completed"
    },
    "tags": []
   },
   "outputs": [
    {
     "data": {
      "text/plain": [
       "train_id                  0\n",
       "name                      0\n",
       "item_condition_id         0\n",
       "category_name          6327\n",
       "brand_name           632682\n",
       "price                     0\n",
       "shipping                  0\n",
       "item_description          4\n",
       "category_1                0\n",
       "category_2                0\n",
       "category_3                0\n",
       "dtype: int64"
      ]
     },
     "execution_count": 15,
     "metadata": {},
     "output_type": "execute_result"
    }
   ],
   "source": [
    "train.isnull().sum()"
   ]
  },
  {
   "cell_type": "code",
   "execution_count": 16,
   "id": "2d911308",
   "metadata": {
    "execution": {
     "iopub.execute_input": "2023-04-30T14:49:12.755472Z",
     "iopub.status.busy": "2023-04-30T14:49:12.754339Z",
     "iopub.status.idle": "2023-04-30T14:49:14.437511Z",
     "shell.execute_reply": "2023-04-30T14:49:14.435951Z"
    },
    "papermill": {
     "duration": 1.703397,
     "end_time": "2023-04-30T14:49:14.440800",
     "exception": false,
     "start_time": "2023-04-30T14:49:12.737403",
     "status": "completed"
    },
    "tags": []
   },
   "outputs": [
    {
     "data": {
      "text/plain": [
       "test_id                    0\n",
       "name                       0\n",
       "item_condition_id          0\n",
       "category_name          14833\n",
       "brand_name           1476490\n",
       "shipping                   0\n",
       "item_description           6\n",
       "category_1                 0\n",
       "category_2                 0\n",
       "category_3                 0\n",
       "dtype: int64"
      ]
     },
     "execution_count": 16,
     "metadata": {},
     "output_type": "execute_result"
    }
   ],
   "source": [
    "test.isnull().sum()"
   ]
  },
  {
   "cell_type": "code",
   "execution_count": 17,
   "id": "5920e370",
   "metadata": {
    "execution": {
     "iopub.execute_input": "2023-04-30T14:49:14.475275Z",
     "iopub.status.busy": "2023-04-30T14:49:14.474626Z",
     "iopub.status.idle": "2023-04-30T14:49:15.620110Z",
     "shell.execute_reply": "2023-04-30T14:49:15.618977Z"
    },
    "papermill": {
     "duration": 1.166118,
     "end_time": "2023-04-30T14:49:15.622967",
     "exception": false,
     "start_time": "2023-04-30T14:49:14.456849",
     "status": "completed"
    },
    "tags": []
   },
   "outputs": [],
   "source": [
    "def handle_missing(dataset):\n",
    "    dataset.brand_name.fillna(value=\"None\", inplace=True)\n",
    "    dataset.item_description.fillna(value=\"None\", inplace=True)\n",
    "    dataset.category_name.fillna(value=\"None\", inplace=True)\n",
    "    return (dataset)\n",
    "\n",
    "train = handle_missing(train)\n",
    "test = handle_missing(test)"
   ]
  },
  {
   "cell_type": "code",
   "execution_count": 18,
   "id": "a2ff4e2e",
   "metadata": {
    "execution": {
     "iopub.execute_input": "2023-04-30T14:49:15.656894Z",
     "iopub.status.busy": "2023-04-30T14:49:15.656459Z",
     "iopub.status.idle": "2023-04-30T14:49:16.385329Z",
     "shell.execute_reply": "2023-04-30T14:49:16.383987Z"
    },
    "papermill": {
     "duration": 0.749081,
     "end_time": "2023-04-30T14:49:16.388018",
     "exception": false,
     "start_time": "2023-04-30T14:49:15.638937",
     "status": "completed"
    },
    "tags": []
   },
   "outputs": [
    {
     "data": {
      "text/plain": [
       "train_id             0\n",
       "name                 0\n",
       "item_condition_id    0\n",
       "category_name        0\n",
       "brand_name           0\n",
       "price                0\n",
       "shipping             0\n",
       "item_description     0\n",
       "category_1           0\n",
       "category_2           0\n",
       "category_3           0\n",
       "dtype: int64"
      ]
     },
     "execution_count": 18,
     "metadata": {},
     "output_type": "execute_result"
    }
   ],
   "source": [
    "train.isnull().sum()"
   ]
  },
  {
   "cell_type": "code",
   "execution_count": 19,
   "id": "db342545",
   "metadata": {
    "execution": {
     "iopub.execute_input": "2023-04-30T14:49:16.422667Z",
     "iopub.status.busy": "2023-04-30T14:49:16.422193Z",
     "iopub.status.idle": "2023-04-30T14:50:23.105830Z",
     "shell.execute_reply": "2023-04-30T14:50:23.104633Z"
    },
    "papermill": {
     "duration": 66.704897,
     "end_time": "2023-04-30T14:50:23.108958",
     "exception": false,
     "start_time": "2023-04-30T14:49:16.404061",
     "status": "completed"
    },
    "tags": []
   },
   "outputs": [],
   "source": [
    "#Group the product name by price\n",
    "def create_price_d(grouped, operation_name, orig_colname):\n",
    "    price_d = {}\n",
    "    for index, row in grouped.iterrows():\n",
    "        price_d[row[orig_colname]] = row['price']\n",
    "    return {orig_colname + \"_\" + operation_name: price_d}\n",
    "\n",
    "\n",
    "# Generate data to look up prices by product name\n",
    "price_d = {}    \n",
    "for col in ['brand_name','category_1','category_2','category_3' ,'category_name']:\n",
    "    price_d.update(create_price_d(train.groupby(col, as_index=False).min(), 'min', col))\n",
    "    price_d.update(create_price_d(train.groupby(col, as_index=False).median(), 'median', col))\n",
    "    price_d.update(create_price_d(train.groupby(col, as_index=False).mean(), 'mean', col))\n",
    "    price_d.update(create_price_d(train.groupby(col, as_index=False).max(), 'max', col))\n",
    "\n",
    "    \n",
    "#Include columns containing dummy products in data\n",
    "def price_dt(dt, pricedicts):\n",
    "    for col in ['brand_name','category_1','category_2','category_3','category_name']:\n",
    "        for oper in ['_min', '_median', '_mean', '_max']:\n",
    "            dt[col + oper] = dt[col].map(price_d[col + oper])\n",
    "            dt[col + oper] = dt[col + oper].fillna(price_d[col + oper].get('Unknown', 5))\n",
    "\n",
    "price_dt(train, price_dt)\n",
    "price_dt(test, price_dt)"
   ]
  },
  {
   "cell_type": "code",
   "execution_count": 20,
   "id": "4cf3c804",
   "metadata": {
    "execution": {
     "iopub.execute_input": "2023-04-30T14:50:23.143256Z",
     "iopub.status.busy": "2023-04-30T14:50:23.142064Z",
     "iopub.status.idle": "2023-04-30T14:50:23.172426Z",
     "shell.execute_reply": "2023-04-30T14:50:23.171108Z"
    },
    "papermill": {
     "duration": 0.050334,
     "end_time": "2023-04-30T14:50:23.175334",
     "exception": false,
     "start_time": "2023-04-30T14:50:23.125000",
     "status": "completed"
    },
    "tags": []
   },
   "outputs": [
    {
     "data": {
      "text/html": [
       "<div>\n",
       "<style scoped>\n",
       "    .dataframe tbody tr th:only-of-type {\n",
       "        vertical-align: middle;\n",
       "    }\n",
       "\n",
       "    .dataframe tbody tr th {\n",
       "        vertical-align: top;\n",
       "    }\n",
       "\n",
       "    .dataframe thead th {\n",
       "        text-align: right;\n",
       "    }\n",
       "</style>\n",
       "<table border=\"1\" class=\"dataframe\">\n",
       "  <thead>\n",
       "    <tr style=\"text-align: right;\">\n",
       "      <th></th>\n",
       "      <th>train_id</th>\n",
       "      <th>name</th>\n",
       "      <th>item_condition_id</th>\n",
       "      <th>category_name</th>\n",
       "      <th>brand_name</th>\n",
       "      <th>price</th>\n",
       "      <th>shipping</th>\n",
       "      <th>item_description</th>\n",
       "      <th>category_1</th>\n",
       "      <th>category_2</th>\n",
       "      <th>...</th>\n",
       "      <th>category_2_mean</th>\n",
       "      <th>category_2_max</th>\n",
       "      <th>category_3_min</th>\n",
       "      <th>category_3_median</th>\n",
       "      <th>category_3_mean</th>\n",
       "      <th>category_3_max</th>\n",
       "      <th>category_name_min</th>\n",
       "      <th>category_name_median</th>\n",
       "      <th>category_name_mean</th>\n",
       "      <th>category_name_max</th>\n",
       "    </tr>\n",
       "  </thead>\n",
       "  <tbody>\n",
       "    <tr>\n",
       "      <th>0</th>\n",
       "      <td>0</td>\n",
       "      <td>MLB Cincinnati Reds T Shirt Size XL</td>\n",
       "      <td>3</td>\n",
       "      <td>Men/Tops/T-shirts</td>\n",
       "      <td>None</td>\n",
       "      <td>10.0</td>\n",
       "      <td>1</td>\n",
       "      <td>No description yet</td>\n",
       "      <td>Men</td>\n",
       "      <td>Tops</td>\n",
       "      <td>...</td>\n",
       "      <td>18.999442</td>\n",
       "      <td>375.0</td>\n",
       "      <td>0.0</td>\n",
       "      <td>14.0</td>\n",
       "      <td>18.352495</td>\n",
       "      <td>309.0</td>\n",
       "      <td>0.0</td>\n",
       "      <td>14.0</td>\n",
       "      <td>18.352495</td>\n",
       "      <td>309.0</td>\n",
       "    </tr>\n",
       "    <tr>\n",
       "      <th>1</th>\n",
       "      <td>1</td>\n",
       "      <td>Razer BlackWidow Chroma Keyboard</td>\n",
       "      <td>3</td>\n",
       "      <td>Electronics/Computers &amp; Tablets/Components &amp; P...</td>\n",
       "      <td>Razer</td>\n",
       "      <td>52.0</td>\n",
       "      <td>0</td>\n",
       "      <td>This keyboard is in great condition and works ...</td>\n",
       "      <td>Electronics</td>\n",
       "      <td>Computers &amp; Tablets</td>\n",
       "      <td>...</td>\n",
       "      <td>87.887754</td>\n",
       "      <td>1900.0</td>\n",
       "      <td>3.0</td>\n",
       "      <td>25.0</td>\n",
       "      <td>42.913900</td>\n",
       "      <td>750.0</td>\n",
       "      <td>3.0</td>\n",
       "      <td>25.0</td>\n",
       "      <td>42.913900</td>\n",
       "      <td>750.0</td>\n",
       "    </tr>\n",
       "    <tr>\n",
       "      <th>2</th>\n",
       "      <td>2</td>\n",
       "      <td>AVA-VIV Blouse</td>\n",
       "      <td>1</td>\n",
       "      <td>Women/Tops &amp; Blouses/Blouse</td>\n",
       "      <td>Target</td>\n",
       "      <td>10.0</td>\n",
       "      <td>1</td>\n",
       "      <td>Adorable top with a hint of lace and a key hol...</td>\n",
       "      <td>Women</td>\n",
       "      <td>Tops &amp; Blouses</td>\n",
       "      <td>...</td>\n",
       "      <td>18.237514</td>\n",
       "      <td>1525.0</td>\n",
       "      <td>0.0</td>\n",
       "      <td>12.0</td>\n",
       "      <td>15.659676</td>\n",
       "      <td>329.0</td>\n",
       "      <td>0.0</td>\n",
       "      <td>12.0</td>\n",
       "      <td>15.660102</td>\n",
       "      <td>329.0</td>\n",
       "    </tr>\n",
       "    <tr>\n",
       "      <th>3</th>\n",
       "      <td>3</td>\n",
       "      <td>Leather Horse Statues</td>\n",
       "      <td>1</td>\n",
       "      <td>Home/Home Décor/Home Décor Accents</td>\n",
       "      <td>None</td>\n",
       "      <td>35.0</td>\n",
       "      <td>1</td>\n",
       "      <td>New with tags. Leather horses. Retail for [rm]...</td>\n",
       "      <td>Home</td>\n",
       "      <td>Home Décor</td>\n",
       "      <td>...</td>\n",
       "      <td>21.566301</td>\n",
       "      <td>848.0</td>\n",
       "      <td>0.0</td>\n",
       "      <td>16.0</td>\n",
       "      <td>22.185020</td>\n",
       "      <td>848.0</td>\n",
       "      <td>0.0</td>\n",
       "      <td>16.0</td>\n",
       "      <td>22.185020</td>\n",
       "      <td>848.0</td>\n",
       "    </tr>\n",
       "    <tr>\n",
       "      <th>4</th>\n",
       "      <td>4</td>\n",
       "      <td>24K GOLD plated rose</td>\n",
       "      <td>1</td>\n",
       "      <td>Women/Jewelry/Necklaces</td>\n",
       "      <td>None</td>\n",
       "      <td>44.0</td>\n",
       "      <td>0</td>\n",
       "      <td>Complete with certificate of authenticity</td>\n",
       "      <td>Women</td>\n",
       "      <td>Jewelry</td>\n",
       "      <td>...</td>\n",
       "      <td>27.501571</td>\n",
       "      <td>2004.0</td>\n",
       "      <td>0.0</td>\n",
       "      <td>12.0</td>\n",
       "      <td>25.587509</td>\n",
       "      <td>1747.0</td>\n",
       "      <td>0.0</td>\n",
       "      <td>12.0</td>\n",
       "      <td>25.587509</td>\n",
       "      <td>1747.0</td>\n",
       "    </tr>\n",
       "  </tbody>\n",
       "</table>\n",
       "<p>5 rows × 31 columns</p>\n",
       "</div>"
      ],
      "text/plain": [
       "   train_id                                 name  item_condition_id  \\\n",
       "0         0  MLB Cincinnati Reds T Shirt Size XL                  3   \n",
       "1         1     Razer BlackWidow Chroma Keyboard                  3   \n",
       "2         2                       AVA-VIV Blouse                  1   \n",
       "3         3                Leather Horse Statues                  1   \n",
       "4         4                 24K GOLD plated rose                  1   \n",
       "\n",
       "                                       category_name brand_name  price  \\\n",
       "0                                  Men/Tops/T-shirts       None   10.0   \n",
       "1  Electronics/Computers & Tablets/Components & P...      Razer   52.0   \n",
       "2                        Women/Tops & Blouses/Blouse     Target   10.0   \n",
       "3                 Home/Home Décor/Home Décor Accents       None   35.0   \n",
       "4                            Women/Jewelry/Necklaces       None   44.0   \n",
       "\n",
       "   shipping                                   item_description   category_1  \\\n",
       "0         1                                 No description yet          Men   \n",
       "1         0  This keyboard is in great condition and works ...  Electronics   \n",
       "2         1  Adorable top with a hint of lace and a key hol...        Women   \n",
       "3         1  New with tags. Leather horses. Retail for [rm]...         Home   \n",
       "4         0          Complete with certificate of authenticity        Women   \n",
       "\n",
       "            category_2  ... category_2_mean  category_2_max  category_3_min  \\\n",
       "0                 Tops  ...       18.999442           375.0             0.0   \n",
       "1  Computers & Tablets  ...       87.887754          1900.0             3.0   \n",
       "2       Tops & Blouses  ...       18.237514          1525.0             0.0   \n",
       "3           Home Décor  ...       21.566301           848.0             0.0   \n",
       "4              Jewelry  ...       27.501571          2004.0             0.0   \n",
       "\n",
       "   category_3_median  category_3_mean  category_3_max  category_name_min  \\\n",
       "0               14.0        18.352495           309.0                0.0   \n",
       "1               25.0        42.913900           750.0                3.0   \n",
       "2               12.0        15.659676           329.0                0.0   \n",
       "3               16.0        22.185020           848.0                0.0   \n",
       "4               12.0        25.587509          1747.0                0.0   \n",
       "\n",
       "   category_name_median  category_name_mean  category_name_max  \n",
       "0                  14.0           18.352495              309.0  \n",
       "1                  25.0           42.913900              750.0  \n",
       "2                  12.0           15.660102              329.0  \n",
       "3                  16.0           22.185020              848.0  \n",
       "4                  12.0           25.587509             1747.0  \n",
       "\n",
       "[5 rows x 31 columns]"
      ]
     },
     "execution_count": 20,
     "metadata": {},
     "output_type": "execute_result"
    }
   ],
   "source": [
    "train.head(5)"
   ]
  },
  {
   "cell_type": "code",
   "execution_count": 21,
   "id": "324a7a7d",
   "metadata": {
    "execution": {
     "iopub.execute_input": "2023-04-30T14:50:23.211813Z",
     "iopub.status.busy": "2023-04-30T14:50:23.210656Z",
     "iopub.status.idle": "2023-04-30T14:50:25.562332Z",
     "shell.execute_reply": "2023-04-30T14:50:25.561002Z"
    },
    "papermill": {
     "duration": 2.372719,
     "end_time": "2023-04-30T14:50:25.565257",
     "exception": false,
     "start_time": "2023-04-30T14:50:23.192538",
     "status": "completed"
    },
    "tags": []
   },
   "outputs": [],
   "source": [
    "col = ['item_condition_id', \n",
    "       'shipping', \n",
    "      'brand_name_min', \n",
    "       'brand_name_max', \n",
    "       'brand_name_median', \n",
    "       'brand_name_mean', \n",
    "      'category_name_min', \n",
    "       'category_name_max', \n",
    "       'category_name_median', \n",
    "       'category_name_mean'\n",
    "      ]\n",
    "\n",
    "train_col = train[col]\n",
    "train_pr = train[['price']]\n",
    "\n",
    "test_col = test[col]"
   ]
  },
  {
   "cell_type": "markdown",
   "id": "3afd7951",
   "metadata": {
    "papermill": {
     "duration": 0.015696,
     "end_time": "2023-04-30T14:50:25.597042",
     "exception": false,
     "start_time": "2023-04-30T14:50:25.581346",
     "status": "completed"
    },
    "tags": []
   },
   "source": [
    "# Machine Learning Model Evaluations and Predictions\n",
    "\n",
    "## Logistic Regression"
   ]
  },
  {
   "cell_type": "code",
   "execution_count": 22,
   "id": "258feb8e",
   "metadata": {
    "execution": {
     "iopub.execute_input": "2023-04-30T14:50:25.631618Z",
     "iopub.status.busy": "2023-04-30T14:50:25.631182Z",
     "iopub.status.idle": "2023-04-30T14:50:26.263591Z",
     "shell.execute_reply": "2023-04-30T14:50:26.261625Z"
    },
    "papermill": {
     "duration": 0.655659,
     "end_time": "2023-04-30T14:50:26.269102",
     "exception": false,
     "start_time": "2023-04-30T14:50:25.613443",
     "status": "completed"
    },
    "tags": []
   },
   "outputs": [],
   "source": [
    "#Train the model using linear regression\n",
    "regr = linear_model.LinearRegression()\n",
    "regr.fit(train_col, train_pr)\n",
    "\n",
    "# Generate price prediction on test dataset\n",
    "test['price'] = regr.predict(test_col)\n",
    "\n",
    "#Reduce price prediction less than 0 to 8\n",
    "test.loc[test.price < 0, 'price'] = 0"
   ]
  },
  {
   "cell_type": "code",
   "execution_count": 23,
   "id": "823ffc7f",
   "metadata": {
    "execution": {
     "iopub.execute_input": "2023-04-30T14:50:26.336167Z",
     "iopub.status.busy": "2023-04-30T14:50:26.335746Z",
     "iopub.status.idle": "2023-04-30T14:50:26.890872Z",
     "shell.execute_reply": "2023-04-30T14:50:26.889557Z"
    },
    "papermill": {
     "duration": 0.581076,
     "end_time": "2023-04-30T14:50:26.893834",
     "exception": false,
     "start_time": "2023-04-30T14:50:26.312758",
     "status": "completed"
    },
    "tags": []
   },
   "outputs": [
    {
     "data": {
      "text/html": [
       "<div>\n",
       "<style scoped>\n",
       "    .dataframe tbody tr th:only-of-type {\n",
       "        vertical-align: middle;\n",
       "    }\n",
       "\n",
       "    .dataframe tbody tr th {\n",
       "        vertical-align: top;\n",
       "    }\n",
       "\n",
       "    .dataframe thead th {\n",
       "        text-align: right;\n",
       "    }\n",
       "</style>\n",
       "<table border=\"1\" class=\"dataframe\">\n",
       "  <thead>\n",
       "    <tr style=\"text-align: right;\">\n",
       "      <th></th>\n",
       "      <th>test_id</th>\n",
       "      <th>price</th>\n",
       "    </tr>\n",
       "  </thead>\n",
       "  <tbody>\n",
       "    <tr>\n",
       "      <th>0</th>\n",
       "      <td>0</td>\n",
       "      <td>25.496219</td>\n",
       "    </tr>\n",
       "    <tr>\n",
       "      <th>1</th>\n",
       "      <td>1</td>\n",
       "      <td>12.589569</td>\n",
       "    </tr>\n",
       "    <tr>\n",
       "      <th>2</th>\n",
       "      <td>2</td>\n",
       "      <td>112.516602</td>\n",
       "    </tr>\n",
       "    <tr>\n",
       "      <th>3</th>\n",
       "      <td>3</td>\n",
       "      <td>24.609692</td>\n",
       "    </tr>\n",
       "    <tr>\n",
       "      <th>4</th>\n",
       "      <td>4</td>\n",
       "      <td>7.471231</td>\n",
       "    </tr>\n",
       "    <tr>\n",
       "      <th>...</th>\n",
       "      <td>...</td>\n",
       "      <td>...</td>\n",
       "    </tr>\n",
       "    <tr>\n",
       "      <th>3460720</th>\n",
       "      <td>3460720</td>\n",
       "      <td>21.440157</td>\n",
       "    </tr>\n",
       "    <tr>\n",
       "      <th>3460721</th>\n",
       "      <td>3460721</td>\n",
       "      <td>17.167976</td>\n",
       "    </tr>\n",
       "    <tr>\n",
       "      <th>3460722</th>\n",
       "      <td>3460722</td>\n",
       "      <td>20.652720</td>\n",
       "    </tr>\n",
       "    <tr>\n",
       "      <th>3460723</th>\n",
       "      <td>3460723</td>\n",
       "      <td>25.465235</td>\n",
       "    </tr>\n",
       "    <tr>\n",
       "      <th>3460724</th>\n",
       "      <td>3460724</td>\n",
       "      <td>24.046110</td>\n",
       "    </tr>\n",
       "  </tbody>\n",
       "</table>\n",
       "<p>3460725 rows × 2 columns</p>\n",
       "</div>"
      ],
      "text/plain": [
       "         test_id       price\n",
       "0              0   25.496219\n",
       "1              1   12.589569\n",
       "2              2  112.516602\n",
       "3              3   24.609692\n",
       "4              4    7.471231\n",
       "...          ...         ...\n",
       "3460720  3460720   21.440157\n",
       "3460721  3460721   17.167976\n",
       "3460722  3460722   20.652720\n",
       "3460723  3460723   25.465235\n",
       "3460724  3460724   24.046110\n",
       "\n",
       "[3460725 rows x 2 columns]"
      ]
     },
     "execution_count": 23,
     "metadata": {},
     "output_type": "execute_result"
    }
   ],
   "source": [
    "RESULT_col = test[['test_id', 'price']]\n",
    "RESULT_col"
   ]
  }
 ],
 "metadata": {
  "kernelspec": {
   "display_name": "Python 3",
   "language": "python",
   "name": "python3"
  },
  "language_info": {
   "codemirror_mode": {
    "name": "ipython",
    "version": 3
   },
   "file_extension": ".py",
   "mimetype": "text/x-python",
   "name": "python",
   "nbconvert_exporter": "python",
   "pygments_lexer": "ipython3",
   "version": "3.7.12"
  },
  "papermill": {
   "default_parameters": {},
   "duration": 160.082675,
   "end_time": "2023-04-30T14:50:29.144820",
   "environment_variables": {},
   "exception": null,
   "input_path": "__notebook__.ipynb",
   "output_path": "__notebook__.ipynb",
   "parameters": {},
   "start_time": "2023-04-30T14:47:49.062145",
   "version": "2.4.0"
  }
 },
 "nbformat": 4,
 "nbformat_minor": 5
}
